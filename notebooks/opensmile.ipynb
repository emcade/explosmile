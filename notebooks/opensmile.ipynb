{
 "cells": [
  {
   "cell_type": "code",
   "execution_count": 1,
   "metadata": {
    "collapsed": true
   },
   "outputs": [],
   "source": [
    "import subprocess\n",
    "import os\n",
    "import os.path\n",
    "import numpy as np\n",
    "from scipy.io import arff"
   ]
  },
  {
   "cell_type": "markdown",
   "metadata": {},
   "source": [
    "OPENsmile installation details: I installed Opensmile in Ubuntu as explained in the book:\n",
    "download tar.gz,\n",
    "unzip,\n",
    "`bash buildStandalone.sh` from within the folder opensmile-X.X.X, and\n",
    "finally add path to .bashrc."
   ]
  },
  {
   "cell_type": "code",
   "execution_count": 2,
   "metadata": {
    "collapsed": true
   },
   "outputs": [],
   "source": [
    "# Opensmile path\n",
    "OPENSMILE_DIR = os.path.expanduser(\"~/openSMILE-2.1.0\")\n",
    "OPENSMILE_CONF = os.path.join('config', 'gemaps', 'GeMAPSv01a.conf')\n",
    "OPENSMILE_CONF_PATH = os.path.join(OPENSMILE_DIR, OPENSMILE_CONF)"
   ]
  },
  {
   "cell_type": "code",
   "execution_count": 3,
   "metadata": {
    "collapsed": true
   },
   "outputs": [],
   "source": [
    "# IEMOCAP data path\n",
    "IEMOCAP_PATH = \"/media/vincent/enschede/IEMOCAP_full_release\"\n",
    "wave_files_path = os.path.join(IEMOCAP_PATH,\"Session1/sentences/wav\")\n",
    "label_files_path = os.path.join(IEMOCAP_PATH,\"Session1/dialog/EmoEvaluation\")"
   ]
  },
  {
   "cell_type": "code",
   "execution_count": 4,
   "metadata": {
    "collapsed": true
   },
   "outputs": [],
   "source": [
    "# get content of directories\n",
    "wavfiles = os.listdir(wave_files_path)\n",
    "labfiles = os.listdir(label_files_path)"
   ]
  },
  {
   "cell_type": "code",
   "execution_count": 5,
   "metadata": {
    "collapsed": true
   },
   "outputs": [],
   "source": [
    "import os\n",
    "wavfiles_list = [os.path.join(dp, f) for dp, dn, fn in os.walk(os.path.expanduser(wave_files_path)) for f in fn]\n",
    "wavfiles = np.array(wavfiles_list)"
   ]
  },
  {
   "cell_type": "code",
   "execution_count": 6,
   "metadata": {
    "collapsed": true
   },
   "outputs": [],
   "source": [
    "def returnrealfiles(filenameslist):\n",
    "    # Ignore wavfiles that start with .\n",
    "    realfiles = []\n",
    "    for i in range(len(filenameslist)):\n",
    "        str_filename = str(filenameslist[i]).split(\"/\")[-1]\n",
    "        if (str_filename[0] != '.') & ((str_filename[-3:] == 'txt') | (str_filename[-3:] == 'wav')):\n",
    "            realfiles.append(filenameslist[i])\n",
    "    return realfiles;    "
   ]
  },
  {
   "cell_type": "code",
   "execution_count": 7,
   "metadata": {
    "collapsed": true
   },
   "outputs": [],
   "source": [
    "realwavfiles = returnrealfiles(wavfiles)\n",
    "reallabfiles = returnrealfiles(labfiles)\n",
    "\n",
    "## Ignore wavfiles that start with .\n",
    "#realwavfiles = []\n",
    "#for i in range(len(wavfiles)):\n",
    "#    if str(wavfiles[i])[0] != '.':\n",
    "#        realwavfiles.append(wavfiles[i])"
   ]
  },
  {
   "cell_type": "code",
   "execution_count": 8,
   "metadata": {
    "collapsed": true
   },
   "outputs": [],
   "source": [
    "# Let's focus on one wav and lab file for now\n",
    "wave_filename = realwavfiles[0]\n",
    "wave_fullpath =  os.path.join(wave_files_path,wave_filename )"
   ]
  },
  {
   "cell_type": "code",
   "execution_count": 9,
   "metadata": {},
   "outputs": [
    {
     "data": {
      "text/plain": [
       "'/media/vincent/enschede/IEMOCAP_full_release/Session1/sentences/wav/Ses01F_impro01/Ses01F_impro01_F000.wav'"
      ]
     },
     "execution_count": 9,
     "metadata": {},
     "output_type": "execute_result"
    }
   ],
   "source": [
    "wave_fullpath"
   ]
  },
  {
   "cell_type": "code",
   "execution_count": 10,
   "metadata": {
    "collapsed": true
   },
   "outputs": [],
   "source": [
    "# find matching label file\n",
    "# the wav files have longer names than the label files, so first remove the end:\n",
    "wavenamepieces = wave_filename.split(\"/\")[-1].split(\"_\")\n",
    "matchinglabfile = wavenamepieces[0] + '_' + wavenamepieces[1] + '.txt'\n",
    "# check whether the matching label file truly exists:\n",
    "matchinglabfile2 = [item for index, item in enumerate(reallabfiles) if matchinglabfile == item]\n",
    "if len(matchinglabfile2) == 0:\n",
    "    print(\"Error no matching label file found\")\n",
    "elif len(matchinglabfile2) > 1:\n",
    "    print(\"Error two or more matching label files found\")\n",
    "matchinglabfile3 = ''.join(matchinglabfile2)\n",
    "# create full path for labelfile:\n",
    "lab_fullpath =  os.path.join(label_files_path, matchinglabfile3)"
   ]
  },
  {
   "cell_type": "code",
   "execution_count": 11,
   "metadata": {
    "collapsed": true
   },
   "outputs": [],
   "source": [
    "# define Open smile command\n",
    "opensmile_conf = os.path.join(OPENSMILE_DIR,\"config/MFCC12_0_D_A.conf\")\n",
    "# select .arff output format because it should be compatible with Scikit learn\n",
    "features_file = \"/media/vincent/enschede/\" + wave_filename.split(\"/\")[-1].replace('.wav', '') + \".csv\"\n",
    "command = \"SMILExtract -I {input_file} -C {conf_file} -O {output_file}\".format(\n",
    "                                    input_file=wave_fullpath,\n",
    "                                    conf_file=opensmile_conf,\n",
    "                                    output_file=features_file)"
   ]
  },
  {
   "cell_type": "code",
   "execution_count": 12,
   "metadata": {
    "collapsed": true
   },
   "outputs": [],
   "source": [
    "# Run the Open smile command and save output\n",
    "output = subprocess.check_output(command, shell=True, stderr=subprocess.STDOUT)"
   ]
  },
  {
   "cell_type": "code",
   "execution_count": 13,
   "metadata": {
    "collapsed": true,
    "scrolled": true
   },
   "outputs": [],
   "source": [
    "# arff format resulted in all kinds of problems:\n",
    "# import arff\n",
    "# data = arff.load(open(features_file,'r'))"
   ]
  },
  {
   "cell_type": "markdown",
   "metadata": {},
   "source": [
    "## Explanation of how to move forward: https://github.com/danijel3/PyHTK/blob/master/python-test/test.py"
   ]
  },
  {
   "cell_type": "code",
   "execution_count": 14,
   "metadata": {
    "collapsed": true
   },
   "outputs": [],
   "source": [
    "import sys\n",
    "sys.path.append('/home/vincent/enschede/explosmile/explosmile')\n",
    "from HTKFeat import MFCC_HTK\n",
    "from HTK import HCopy, HTKFile\n",
    "import numpy as np\n",
    "%matplotlib inline\n",
    "import matplotlib.pyplot as plt"
   ]
  },
  {
   "cell_type": "code",
   "execution_count": 15,
   "metadata": {
    "collapsed": true
   },
   "outputs": [],
   "source": [
    "htk = HTKFile()\n",
    "htk.load(features_file)"
   ]
  },
  {
   "cell_type": "code",
   "execution_count": 16,
   "metadata": {},
   "outputs": [
    {
     "data": {
      "text/plain": [
       "1.93"
      ]
     },
     "execution_count": 16,
     "metadata": {},
     "output_type": "execute_result"
    }
   ],
   "source": [
    "htk.nSamples / 100\n"
   ]
  },
  {
   "cell_type": "code",
   "execution_count": 17,
   "metadata": {
    "collapsed": true
   },
   "outputs": [],
   "source": [
    "# object is a list of lists, now turn into numpy array:\n",
    "htk_np_data = np.array(htk.data)"
   ]
  },
  {
   "cell_type": "code",
   "execution_count": 18,
   "metadata": {},
   "outputs": [
    {
     "data": {
      "text/plain": [
       "(193, 39)"
      ]
     },
     "execution_count": 18,
     "metadata": {},
     "output_type": "execute_result"
    }
   ],
   "source": [
    "htk_np_data.shape"
   ]
  },
  {
   "cell_type": "code",
   "execution_count": 19,
   "metadata": {},
   "outputs": [
    {
     "data": {
      "image/png": "[encoded data removed]",
      "text/plain": [
       "<matplotlib.figure.Figure at 0x7f41deecb908>"
      ]
     },
     "metadata": {},
     "output_type": "display_data"
    }
   ],
   "source": [
    "plt.plot(htk_np_data[:,4])\n",
    "plt.show()"
   ]
  },
  {
   "cell_type": "code",
   "execution_count": 20,
   "metadata": {
    "collapsed": true
   },
   "outputs": [],
   "source": [
    "# look up annotation for that same file"
   ]
  },
  {
   "cell_type": "code",
   "execution_count": 21,
   "metadata": {},
   "outputs": [
    {
     "data": {
      "text/plain": [
       "'/media/vincent/enschede/Ses01F_impro01_F000.csv'"
      ]
     },
     "execution_count": 21,
     "metadata": {},
     "output_type": "execute_result"
    }
   ],
   "source": [
    "features_file"
   ]
  },
  {
   "cell_type": "code",
   "execution_count": 22,
   "metadata": {},
   "outputs": [
    {
     "data": {
      "text/plain": [
       "'/media/vincent/enschede/IEMOCAP_full_release/Session1/dialog/EmoEvaluation/Ses01F_impro01.txt'"
      ]
     },
     "execution_count": 22,
     "metadata": {},
     "output_type": "execute_result"
    }
   ],
   "source": [
    "lab_fullpath"
   ]
  },
  {
   "cell_type": "code",
   "execution_count": 23,
   "metadata": {
    "collapsed": true
   },
   "outputs": [],
   "source": [
    "import pandas as pd"
   ]
  },
  {
   "cell_type": "code",
   "execution_count": 24,
   "metadata": {},
   "outputs": [],
   "source": [
    "# get all labels for all utterances in this improvisation\n",
    "labels = pd.read_table(lab_fullpath,header=0).iloc[0::8,:] # the summary is stored in every 8th row"
   ]
  },
  {
   "cell_type": "code",
   "execution_count": 25,
   "metadata": {},
   "outputs": [],
   "source": [
    "# the format of the data needs to be tidied up a bit\n",
    "# turn rownames into column\n",
    "labels.index.name = 'newhead'\n",
    "labels.reset_index(inplace=True)\n",
    "# rename the columns that are now created\n",
    "labels = labels.rename(columns={'level_0': '[START_TIME - END_TIME]', 'level_1': 'TURN_NAME', 'level_2': 'EMOTION'})\n",
    "# split valence, activation, and dominance: \n",
    "labels[['V','A','D']] = labels['% [START_TIME - END_TIME] TURN_NAME EMOTION [V, A, D]'].str.split('\\s',expand=True)\n",
    "labels[['START_TIME','END_TIME']] = labels['[START_TIME - END_TIME]'].str.split(' - ',expand=True)\n",
    "labels = labels.drop(['% [START_TIME - END_TIME] TURN_NAME EMOTION [V, A, D]','[START_TIME - END_TIME]'], axis=1)\n",
    "# remove unwanted characters\n",
    "for colnam in ['V','A','D', 'START_TIME','END_TIME']:\n",
    "    labels[colnam] = labels[colnam].map(lambda x: x.lstrip('[,').rstrip('],'))    "
   ]
  },
  {
   "cell_type": "code",
   "execution_count": 26,
   "metadata": {},
   "outputs": [
    {
     "data": {
      "text/html": [
       "<div>\n",
       "<style>\n",
       "    .dataframe thead tr:only-child th {\n",
       "        text-align: right;\n",
       "    }\n",
       "\n",
       "    .dataframe thead th {\n",
       "        text-align: left;\n",
       "    }\n",
       "\n",
       "    .dataframe tbody tr th {\n",
       "        vertical-align: top;\n",
       "    }\n",
       "</style>\n",
       "<table border=\"1\" class=\"dataframe\">\n",
       "  <thead>\n",
       "    <tr style=\"text-align: right;\">\n",
       "      <th></th>\n",
       "      <th>TURN_NAME</th>\n",
       "      <th>EMOTION</th>\n",
       "      <th>V</th>\n",
       "      <th>A</th>\n",
       "      <th>D</th>\n",
       "      <th>START_TIME</th>\n",
       "      <th>END_TIME</th>\n",
       "    </tr>\n",
       "  </thead>\n",
       "  <tbody>\n",
       "    <tr>\n",
       "      <th>0</th>\n",
       "      <td>Ses01F_impro01_F000</td>\n",
       "      <td>neu</td>\n",
       "      <td>2.5000</td>\n",
       "      <td>2.5000</td>\n",
       "      <td>2.5000</td>\n",
       "      <td>6.2901</td>\n",
       "      <td>8.2357</td>\n",
       "    </tr>\n",
       "    <tr>\n",
       "      <th>1</th>\n",
       "      <td>Ses01F_impro01_F001</td>\n",
       "      <td>neu</td>\n",
       "      <td>2.5000</td>\n",
       "      <td>2.5000</td>\n",
       "      <td>2.5000</td>\n",
       "      <td>10.0100</td>\n",
       "      <td>11.3925</td>\n",
       "    </tr>\n",
       "    <tr>\n",
       "      <th>2</th>\n",
       "      <td>Ses01F_impro01_F002</td>\n",
       "      <td>neu</td>\n",
       "      <td>2.5000</td>\n",
       "      <td>2.5000</td>\n",
       "      <td>2.5000</td>\n",
       "      <td>14.8872</td>\n",
       "      <td>18.0175</td>\n",
       "    </tr>\n",
       "    <tr>\n",
       "      <th>3</th>\n",
       "      <td>Ses01F_impro01_F003</td>\n",
       "      <td>xxx</td>\n",
       "      <td>2.5000</td>\n",
       "      <td>3.0000</td>\n",
       "      <td>3.0000</td>\n",
       "      <td>19.2900</td>\n",
       "      <td>20.7875</td>\n",
       "    </tr>\n",
       "    <tr>\n",
       "      <th>4</th>\n",
       "      <td>Ses01F_impro01_F004</td>\n",
       "      <td>xxx</td>\n",
       "      <td>2.5000</td>\n",
       "      <td>3.0000</td>\n",
       "      <td>2.5000</td>\n",
       "      <td>21.3257</td>\n",
       "      <td>24.7400</td>\n",
       "    </tr>\n",
       "  </tbody>\n",
       "</table>\n",
       "</div>"
      ],
      "text/plain": [
       "             TURN_NAME EMOTION       V       A       D START_TIME END_TIME\n",
       "0  Ses01F_impro01_F000     neu  2.5000  2.5000  2.5000     6.2901   8.2357\n",
       "1  Ses01F_impro01_F001     neu  2.5000  2.5000  2.5000    10.0100  11.3925\n",
       "2  Ses01F_impro01_F002     neu  2.5000  2.5000  2.5000    14.8872  18.0175\n",
       "3  Ses01F_impro01_F003     xxx  2.5000  3.0000  3.0000    19.2900  20.7875\n",
       "4  Ses01F_impro01_F004     xxx  2.5000  3.0000  2.5000    21.3257  24.7400"
      ]
     },
     "execution_count": 26,
     "metadata": {},
     "output_type": "execute_result"
    }
   ],
   "source": [
    "labels.head()"
   ]
  },
  {
   "cell_type": "code",
   "execution_count": 27,
   "metadata": {},
   "outputs": [],
   "source": [
    "# find the row for which the TURN_NAME matches the wav features file\n",
    "TURNNAMEwav = features_file.split(\"/\")[-1].split(\".cs\")[0]\n",
    "b = [index for index, item in enumerate(labels['TURN_NAME']) if TURNNAMEwav == item][0]\n",
    "# extract label for this utterance\n",
    "label = labels['EMOTION'][b]\n"
   ]
  },
  {
   "cell_type": "code",
   "execution_count": 28,
   "metadata": {
    "collapsed": true
   },
   "outputs": [],
   "source": [
    "# Explore SVM in scikit learn"
   ]
  },
  {
   "cell_type": "markdown",
   "metadata": {},
   "source": [
    "## Example of how to apply SVM on the X and y later on: http://scikit-learn.org/stable/auto_examples/svm/plot_svm_kernels.html, which clarifies that X should be a Numpy array with shape (n_samples, n_features)"
   ]
  },
  {
   "cell_type": "code",
   "execution_count": null,
   "metadata": {
    "collapsed": true
   },
   "outputs": [],
   "source": []
  }
 ],
 "metadata": {
  "kernelspec": {
   "display_name": "Python 3",
   "language": "python",
   "name": "python3"
  },
  "language_info": {
   "codemirror_mode": {
    "name": "ipython",
    "version": 3
   },
   "file_extension": ".py",
   "mimetype": "text/x-python",
   "name": "python",
   "nbconvert_exporter": "python",
   "pygments_lexer": "ipython3",
   "version": "3.6.2"
  }
 },
 "nbformat": 4,
 "nbformat_minor": 2
}
