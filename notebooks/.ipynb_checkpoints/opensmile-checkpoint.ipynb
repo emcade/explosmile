{
 "cells": [
  {
   "cell_type": "code",
   "execution_count": 6,
   "metadata": {
    "collapsed": true
   },
   "outputs": [],
   "source": [
    "import subprocess\n",
    "import os\n",
    "import os.path\n",
    "from scipy.io import arff"
   ]
  },
  {
   "cell_type": "markdown",
   "metadata": {},
   "source": [
    "OPENsmile installation details: I installed Opensmile in Ubuntu as explained in the book:\n",
    "download tar.gz,\n",
    "unzip,\n",
    "`bash buildStandalone.sh` from within the folder opensmile-X.X.X, and\n",
    "finally add path to .bashrc."
   ]
  },
  {
   "cell_type": "code",
   "execution_count": 7,
   "metadata": {
    "collapsed": true
   },
   "outputs": [],
   "source": [
    "# Opensmile path\n",
    "OPENSMILE_DIR = os.path.expanduser(\"~/openSMILE-2.1.0\")\n",
    "OPENSMILE_CONF = os.path.join('config', 'gemaps', 'GeMAPSv01a.conf')\n",
    "OPENSMILE_CONF_PATH = os.path.join(OPENSMILE_DIR, OPENSMILE_CONF)"
   ]
  },
  {
   "cell_type": "code",
   "execution_count": 8,
   "metadata": {
    "collapsed": true
   },
   "outputs": [],
   "source": [
    "# IEMOCAP data path\n",
    "IEMOCAP_PATH = \"/media/vincent/enschede/IEMOCAP_full_release\"\n",
    "wave_files_path = os.path.join(IEMOCAP_PATH,\"Session1/dialog/wav\")"
   ]
  },
  {
   "cell_type": "code",
   "execution_count": 11,
   "metadata": {},
   "outputs": [],
   "source": [
    "# get content of directory\n",
    "directory_content = os.listdir(wave_files_path)"
   ]
  },
  {
   "cell_type": "code",
   "execution_count": 12,
   "metadata": {},
   "outputs": [],
   "source": [
    "# Ignore wavfiles that start with .\n",
    "realwavfiles = []\n",
    "for i in range(len(directory_content)):\n",
    "    if str(directory_content[i])[0] != '.':\n",
    "        realwavfiles.append(directory_content[i])"
   ]
  },
  {
   "cell_type": "code",
   "execution_count": 13,
   "metadata": {
    "collapsed": true
   },
   "outputs": [],
   "source": [
    "# Let's focus on one file for now\n",
    "wave_filename = realwavfiles[0]\n",
    "wave_fullpath =  os.path.join(wave_files_path,wave_filename )"
   ]
  },
  {
   "cell_type": "code",
   "execution_count": 14,
   "metadata": {
    "collapsed": true
   },
   "outputs": [],
   "source": [
    "# define Open smile command\n",
    "opensmile_conf = os.path.join(OPENSMILE_DIR,\"config/MFCC12_0_D_A.conf\")\n",
    "# select .arff output format because it should be compatible with Scikit learn\n",
    "features_file = \"/media/vincent/enschede/\" + wave_filename.replace('.', '') + \".csv\"\n",
    "command = \"SMILExtract -I {input_file} -C {conf_file} -O {output_file}\".format(\n",
    "                                    input_file=wave_fullpath,\n",
    "                                    conf_file=opensmile_conf,\n",
    "                                    output_file=features_file)"
   ]
  },
  {
   "cell_type": "code",
   "execution_count": 8,
   "metadata": {
    "collapsed": true
   },
   "outputs": [],
   "source": [
    "# Run the Open smile command and save output\n",
    "output = subprocess.check_output(command, shell=True, stderr=subprocess.STDOUT)"
   ]
  },
  {
   "cell_type": "code",
   "execution_count": 9,
   "metadata": {
    "collapsed": true,
    "scrolled": true
   },
   "outputs": [],
   "source": [
    "# arff format resulted in all kinds of problems:\n",
    "# import arff\n",
    "# data = arff.load(open(features_file,'r'))"
   ]
  },
  {
   "cell_type": "markdown",
   "metadata": {},
   "source": [
    "## Explanation of how to move forward: https://github.com/danijel3/PyHTK/blob/master/python-test/test.py"
   ]
  },
  {
   "cell_type": "code",
   "execution_count": 4,
   "metadata": {},
   "outputs": [
    {
     "name": "stderr",
     "output_type": "stream",
     "text": [
      "/home/vincent/anaconda3/envs/iemocap/lib/python3.6/site-packages/matplotlib/font_manager.py:280: UserWarning: Matplotlib is building the font cache using fc-list. This may take a moment.\n",
      "  'Matplotlib is building the font cache using fc-list. '\n"
     ]
    }
   ],
   "source": [
    "import sys\n",
    "sys.path.append('explosmile')\n",
    "from HTKFeat import MFCC_HTK\n",
    "from HTK import HCopy, HTKFile\n",
    "import numpy as np\n",
    "%matplotlib inline\n",
    "import matplotlib.pyplot as plt"
   ]
  },
  {
   "cell_type": "code",
   "execution_count": 16,
   "metadata": {},
   "outputs": [],
   "source": [
    "htk = HTKFile()\n",
    "htk.load(features_file)"
   ]
  },
  {
   "cell_type": "code",
   "execution_count": 33,
   "metadata": {},
   "outputs": [],
   "source": [
    "# object is a list of lists, now turn into numpy array:\n",
    "htk_np_data = np.array(htk.data)"
   ]
  },
  {
   "cell_type": "code",
   "execution_count": 34,
   "metadata": {},
   "outputs": [
    {
     "data": {
      "text/plain": [
       "(13361, 39)"
      ]
     },
     "execution_count": 34,
     "metadata": {},
     "output_type": "execute_result"
    }
   ],
   "source": [
    "htk_np_data.shape"
   ]
  },
  {
   "cell_type": "code",
   "execution_count": 42,
   "metadata": {},
   "outputs": [
    {
     "data": {
      "image/png": "[encoded data removed]",
      "text/plain": [
       "<matplotlib.figure.Figure at 0x7f692251a3c8>"
      ]
     },
     "metadata": {},
     "output_type": "display_data"
    }
   ],
   "source": [
    "plt.plot(htk_np_data[:,4])\n",
    "plt.show()"
   ]
  },
  {
   "cell_type": "code",
   "execution_count": null,
   "metadata": {
    "collapsed": true
   },
   "outputs": [],
   "source": []
  }
 ],
 "metadata": {
  "kernelspec": {
   "display_name": "Python 3",
   "language": "python",
   "name": "python3"
  },
  "language_info": {
   "codemirror_mode": {
    "name": "ipython",
    "version": 3
   },
   "file_extension": ".py",
   "mimetype": "text/x-python",
   "name": "python",
   "nbconvert_exporter": "python",
   "pygments_lexer": "ipython3",
   "version": "3.6.2"
  }
 },
 "nbformat": 4,
 "nbformat_minor": 2
}
